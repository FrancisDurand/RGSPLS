{
 "cells": [
  {
   "cell_type": "code",
   "execution_count": 1,
   "metadata": {},
   "outputs": [],
   "source": [
    "import matplotlib.pyplot as plt\n",
    "import numpy as np\n",
    "import math\n",
    "import scipy.special\n",
    "from mpmath import *\n",
    "import random\n",
    "import time"
   ]
  },
  {
   "cell_type": "markdown",
   "metadata": {},
   "source": [
    "We ask for $n \\geq 10$."
   ]
  },
  {
   "cell_type": "code",
   "execution_count": 2,
   "metadata": {},
   "outputs": [],
   "source": [
    "n=10_000_000"
   ]
  },
  {
   "cell_type": "code",
   "execution_count": 3,
   "metadata": {},
   "outputs": [
    {
     "name": "stdout",
     "output_type": "stream",
     "text": [
      "3163\n"
     ]
    }
   ],
   "source": [
    "def find_the_mode(n):\n",
    "    return math.ceil(sqrt(n))\n",
    "\n",
    "\n",
    "m = find_the_mode(n)\n",
    "\n",
    "print(m)"
   ]
  },
  {
   "cell_type": "code",
   "execution_count": 4,
   "metadata": {},
   "outputs": [],
   "source": [
    "def compute_Bl_n_tilde (n): #F_n_tilde is above F_n for n >= 10\n",
    "    if n == 0 :\n",
    "        return(1)\n",
    "    else: return(mp.power(n,n-1/4)*mp.exp(-1/2+2*mp.sqrt(n)-n)/mp.sqrt(2))"
   ]
  },
  {
   "cell_type": "code",
   "execution_count": 5,
   "metadata": {},
   "outputs": [],
   "source": [
    "Bl = compute_Bl_n_tilde(n)"
   ]
  },
  {
   "cell_type": "code",
   "execution_count": 6,
   "metadata": {},
   "outputs": [
    {
     "data": {
      "image/png": "[encoded data removed]",
      "text/plain": [
       "<Figure size 720x432 with 1 Axes>"
      ]
     },
     "metadata": {
      "needs_background": "light"
     },
     "output_type": "display_data"
    }
   ],
   "source": [
    "#To convince oneself the Bl_tilde are above A000262(n)\n",
    "import numpy as np\n",
    "import matplotlib.pyplot as plt\n",
    "from math import comb  # For binomial coefficients\n",
    "\n",
    "# Step 1: Compute a(n) using dynamic programming\n",
    "def compute_a(n_max):\n",
    "    a = [0] * (n_max + 1)\n",
    "    a[0] = 1  # Base case\n",
    "    a[1] = 1\n",
    "\n",
    "\n",
    "    for n in range(1, n_max + 1):\n",
    "        a[n] = (2*n-1)*a[n-1] - (n-1)*(n-2)*a[n-2]\n",
    "    \n",
    "    return a\n",
    "\n",
    "\n",
    "# Step 3: Compute the first 110 values of a(n) and the ratios\n",
    "n_max = 110\n",
    "a_values = compute_a(n_max)\n",
    "Bl_tilde_values = [compute_Bl_n_tilde(n) for n in range(n_max + 1)]\n",
    "ratios = [(a_values[n] / Bl_tilde_values[n]) for n in range(n_max + 1)]\n",
    "\n",
    "# Step 4: Plot the ratios\n",
    "plt.figure(figsize=(10, 6))\n",
    "plt.plot(range(n_max + 1), ratios, marker='o', linestyle='-', color='b', label='a(n) / Bl_tilde(n)')\n",
    "plt.xlabel('n')\n",
    "plt.ylabel('Ratio a(n) / Bl_tilde(n)')\n",
    "plt.title('Ratios of a(n) to Bl_tilde(n) for n = 0 to 110')\n",
    "plt.grid(True)\n",
    "plt.legend()\n",
    "plt.show()"
   ]
  },
  {
   "cell_type": "code",
   "execution_count": 7,
   "metadata": {},
   "outputs": [],
   "source": [
    "def g_int (m,n):\n",
    "    if m <= 0 : return(0)\n",
    "    return(mp.rf(m, n)/(mp.fac(m)))\n",
    "\n",
    "def g_function (x,m,n):\n",
    "    g_m = g_int(m,n)\n",
    "    Bl_n_tilde = compute_Bl_n_tilde(n)\n",
    "    facteur = mp.exp(1-g_m*(mp.absmax(x-m)-mp.mpf('0.5'))/(mp.exp(1)*Bl_n_tilde))\n",
    "    if facteur < 1 : \n",
    "        return(g_m*facteur)\n",
    "    else:\n",
    "        return(g_m)"
   ]
  },
  {
   "cell_type": "code",
   "execution_count": 8,
   "metadata": {},
   "outputs": [],
   "source": [
    "def tirer_Y (n,m):\n",
    "    g_m = g_int (m,n)\n",
    "    Bl_n_tilde = compute_Bl_n_tilde(n)\n",
    "    bern = random.random()\n",
    "    if bern < 2/(g_m/(mp.exp(1)*Bl_n_tilde)+4) : #on est dans l'un des deux cotés\n",
    "        dg = random.randint(1,2)\n",
    "        expdistribution = mp.mpf('-1')*mp.log(random.random())*mp.exp(1)*Bl_n_tilde/g_m\n",
    "        if dg == 1 : return(m + 0.5 + mp.exp(1)*Bl_n_tilde/g_m + expdistribution)\n",
    "        else : return(m -0.5 - mp.exp(1)*Bl_n_tilde/g_m - expdistribution)\n",
    "    else:\n",
    "        return(m + (1 - 2*random.random())*(mp.mpf('0.5') + mp.exp(1)*Bl_n_tilde/g_m))"
   ]
  },
  {
   "cell_type": "code",
   "execution_count": 9,
   "metadata": {},
   "outputs": [],
   "source": [
    "def tirer_k (n,m):\n",
    "    b = True\n",
    "    while b :\n",
    "        Y = tirer_Y(n,m)\n",
    "        X = round(Y)\n",
    "        if random.random()*g_function(Y,m,n) < g_int(X,n):\n",
    "            b = False\n",
    "    return(X)"
   ]
  },
  {
   "cell_type": "markdown",
   "metadata": {},
   "source": [
    "If one wants to look at the distribution of $Y$ and $U$."
   ]
  },
  {
   "cell_type": "code",
   "execution_count": 10,
   "metadata": {},
   "outputs": [],
   "source": [
    "# results = [tirer_k(n,m) for _ in range(1000)]\n",
    "# results2 = [round(tirer_Y(n,m)) for _ in range(1000)]\n",
    "# # Calculate the mean and standard deviation\n",
    "# # mean = np.mean(results)\n",
    "# # std_dev = np.std(results)\n",
    "\n",
    "# # print(f\"Mean of outcomes: {mean}\")\n",
    "# # print(f\"Standard deviation of outcomes: {std_dev}\")\n",
    "\n",
    "\n",
    "# # Plot the histogram\n",
    "# plt.hist(results, bins=30, density=True, alpha=0.6, color='g', label='Outcomes')\n",
    "# plt.hist(results2, bins=30, density=True, alpha=0.6, color='b', label='r2')\n",
    "\n",
    "# # # Overlay the expected Gaussian distribution\n",
    "# # x = np.linspace(min(results), max(results), 1000)\n",
    "# # gaussian = (1 / (std_dev * np.sqrt(2 * np.pi))) * np.exp(-0.5 * ((x - mean) / std_dev) ** 2)\n",
    "# # plt.plot(x, gaussian, 'r-', label='Gaussian Fit')\n",
    "\n",
    "# # # Add labels and legend\n",
    "# plt.xlabel('Outcome')\n",
    "# plt.ylabel('Density')\n",
    "# plt.title('Distribution of tirer_W1() Outcomes')\n",
    "# plt.legend()\n",
    "\n",
    "# # Show the plot\n",
    "# plt.show()"
   ]
  },
  {
   "cell_type": "code",
   "execution_count": 11,
   "metadata": {},
   "outputs": [],
   "source": [
    "import random\n",
    "\n",
    "def generate_linear_subsets_optimized(n, U):\n",
    "    \"\"\"\n",
    "    Generates a weak ordering of n elements into U piles efficiently using dictionaries and doubly linked lists.\n",
    "    \n",
    "    Parameters:\n",
    "        n (int): The number of elements to distribute.\n",
    "        U (int): The number of piles (urns).\n",
    "        \n",
    "    Returns:\n",
    "        list: A list of piles, where each pile is represented as a list of elements.\n",
    "    \"\"\"\n",
    "    # Initialize U empty piles as doubly linked lists\n",
    "    piles = [{} for _ in range(U)]  # Each pile is a dictionary representing a doubly linked list\n",
    "    \n",
    "    # Track the first and last elements of each pile\n",
    "    first_elements = [None] * U  # First element in each pile\n",
    "    last_elements = [None] * U  # Last element in each pile\n",
    "    \n",
    "    # Track the pile and neighbors of each element\n",
    "    element_to_pile = {}  # Maps element to its pile index\n",
    "    element_to_prev = {}  # Maps element to its previous element in the pile\n",
    "    element_to_next = {}  # Maps element to its next element in the pile\n",
    "    \n",
    "    # Sequentially insert elements into piles\n",
    "    for k in range(1, n + 1):\n",
    "        # Calculate the number of available positions: U + (k - 1)\n",
    "        available_positions = U + (k - 1)\n",
    "        \n",
    "        # Randomly select a position uniformly among the available positions\n",
    "        selected_position = random.randint(0, available_positions - 1)\n",
    "        \n",
    "        if selected_position < U:\n",
    "            # Place the element on top of a pile\n",
    "            pile_index = selected_position\n",
    "            if first_elements[pile_index] is None:\n",
    "                # Pile is empty, set as first and last element\n",
    "                first_elements[pile_index] = k\n",
    "                last_elements[pile_index] = k\n",
    "                element_to_next[k] = None\n",
    "            else:\n",
    "                # Insert at the top of the pile\n",
    "                element_to_next[k] = first_elements[pile_index]\n",
    "                element_to_prev[first_elements[pile_index]] = k\n",
    "                first_elements[pile_index] = k\n",
    "            element_to_pile[k] = pile_index\n",
    "            element_to_prev[k] = None\n",
    "        else:\n",
    "            # Place the element below an existing element in a pile\n",
    "            # The position corresponds to (selected_position - U) + 1\n",
    "            remaining_position = selected_position - U + 1\n",
    "            \n",
    "            # Find the element after which to insert\n",
    "            # Since we have a dictionary, we can directly access the element\n",
    "            # by iterating through the piles and counting positions\n",
    "\n",
    "            \n",
    "            pile_index = element_to_pile[remaining_position]\n",
    "            current_element = remaining_position\n",
    "            # Insert after this element\n",
    "            next_element = element_to_next.get(current_element, None)\n",
    "            element_to_next[k] = next_element\n",
    "            element_to_prev[k] = current_element\n",
    "            if next_element:\n",
    "                element_to_prev[next_element] = k\n",
    "            else:\n",
    "                last_elements[pile_index] = k\n",
    "            element_to_next[current_element] = k\n",
    "            element_to_pile[k] = pile_index\n",
    "    \n",
    "    # Convert the doubly linked lists back to lists for readability\n",
    "    result = []\n",
    "    for pile_index in range(U):\n",
    "        current_element = first_elements[pile_index]\n",
    "        pile_list = []\n",
    "        while current_element:\n",
    "            pile_list.append(current_element)\n",
    "            current_element = element_to_next.get(current_element, None)\n",
    "        if pile_list:\n",
    "            result.append(pile_list)\n",
    "    \n",
    "    return result\n",
    "\n",
    "# # Example usage\n",
    "# n = 1_000_000  # Number of elements\n",
    "# U = find_the_mode(n)  # Number of piles\n",
    "# linear_subsets = generate_linear_subsets_optimized(n, U)\n",
    "# print(len(linear_subsets))"
   ]
  },
  {
   "cell_type": "code",
   "execution_count": 12,
   "metadata": {},
   "outputs": [
    {
     "name": "stdout",
     "output_type": "stream",
     "text": [
      "There are 1003 urns\n",
      "Time to sample U :  0.009737253189086914\n",
      "First equivalence class :  [542103, 293060, 893470, 127709, 428517, 28553, 950002, 714344, 721005, 214219, 702135, 231683, 191382, 436293, 277754, 176777, 580420, 46838, 839823, 531889, 327129, 596434, 954931, 141367, 179144, 268323, 83263, 782930, 361148, 487193, 513183, 405340, 724275, 29972, 423882, 435055, 988537, 400355, 660526, 17425, 191770, 830894, 212665, 536027, 451636, 544970, 312599, 65317, 373957, 795698, 589961, 599161, 373929, 68741, 144908, 230288, 257907, 301281, 916425, 648941, 26463, 784113, 634532, 467328, 596676, 410769, 517172, 129569, 356532, 153813, 160592, 985534, 367936, 461870, 275004, 240377, 448973, 908709, 64699, 580852, 293084, 964019, 901998, 367709, 389309, 202735, 855489, 49101, 178710, 863014, 182392, 469404, 399840, 61525, 54240, 619867, 250724, 101761, 549934, 93735, 852038, 892214, 718718, 759969, 534506, 418822, 655933, 639779, 623530, 14658, 553233, 704079, 965802, 407121, 594806, 980387, 329795, 23281, 105395, 860390, 282709, 274350, 235613, 719211, 634234, 292991, 741070, 855240, 988932, 492706, 559564, 400094, 3775, 721142, 786357, 257534, 14146, 843679, 605022, 993934, 486373, 799380, 280748, 154857, 159295, 727415, 482713, 988818, 313831, 993022, 181643, 451617, 976314, 544602, 160932, 649072, 529908, 687408, 338286, 52005, 575718, 48185, 964345, 892554, 857777, 827870, 304355, 436522, 946316, 163825, 724109, 586541, 584989, 338675, 527073, 157579, 560306, 750689, 666071, 875782, 661514, 202396, 571011, 552492, 519310, 368667, 732368, 687568, 191211, 233195, 524293, 395808, 898157, 385301, 805306, 820240, 344389, 91598, 509510, 969217, 232481, 924403, 312301, 285910, 270391, 555892, 860783, 442995, 917180, 813167, 586947, 539965, 712124, 815995, 288275, 429856, 773065, 143367, 988763, 251475, 863982, 928592, 923015, 848698, 492332, 211270, 278140, 435820, 337030, 927787, 538185, 185333, 946077, 484103, 334642, 548009, 413288, 936381, 424866, 447749, 988418, 841845, 629240, 69841, 460931, 812549, 456889, 32145, 761018, 794175, 120596, 824079, 58174, 617680, 77972, 601374, 660007, 906913, 590173, 167334, 285937, 863399, 919952, 662907, 66261, 974619, 772293, 731579, 35070, 507791, 764944, 783699, 835289, 116953, 575672, 767619, 77971, 719798, 112774, 587396, 812799, 743585, 388930, 914201, 101057, 731719, 712972, 629096, 495170, 290877, 838513, 333649, 40395, 496984, 782832, 678140, 327659, 185099, 942597, 417287, 138486, 669508, 259061, 791312, 558633, 291969, 449730, 865892, 113217, 634991, 83578, 437627, 873750, 362975, 601909, 615132, 949845, 653660, 423354, 88534, 168521, 537848, 43046, 253591, 917719, 163372, 323839, 24131, 169942, 88599, 279309, 428125, 554423, 916183, 653876, 708833, 2692, 836298, 424312, 221829, 83707, 428233, 991556, 322473, 299708, 501171, 7553, 464998, 150467, 33685, 506907, 192022, 423146, 277242, 604358, 118960, 424567, 334732, 321934, 636048, 864312, 926615, 213580, 659159, 715334, 611734, 196074, 945304, 970261, 315327, 607015, 376545, 627618, 566751, 571575, 526341, 676788, 213728, 588764, 483283, 290543, 367261, 339586, 411796, 300791, 372420, 850582, 593158, 20057, 963523, 9701, 683002, 980376, 419725, 852713, 260198, 709160, 9705, 669237, 26993, 260238, 914554, 673609, 96113, 364929, 511149, 330757, 428092, 502139, 704366, 433479, 312328, 865830, 641582, 734956, 910319, 539254, 210220, 921522, 510914, 606381, 195804, 720036, 555844, 940483, 151014, 713587, 953352, 371909, 339818, 412375, 94540, 742696, 743364, 264578, 345634, 356116, 431438, 511805, 236865, 294631, 226006, 271135, 420756, 172735, 825147, 578337, 760701, 286616, 472883, 613232, 397398, 518438, 641807, 304069, 244375, 137929, 980734, 529706, 916947, 372929, 886254, 201228, 847828, 899093, 483487, 673369, 770637, 657165, 162467, 983944, 261898, 455079, 994968, 976866, 994799, 347657, 409406, 965363, 831221, 636871, 384210, 461641, 147450, 631777, 500510, 361667, 233391, 366478, 903042, 371976, 716045, 742004, 876204, 41536, 80749, 658929, 679656, 767833, 630528, 962855, 417696, 408828, 207608, 730326, 975265, 397039, 744340, 887508, 677664, 696606, 286467, 187491, 774264, 695198, 210500, 812034, 894056, 977794, 664265, 43305, 502193, 766282, 886871, 205577, 803142, 332915, 906282, 543327, 48815, 982944, 777535, 784942, 7593, 627565, 59639, 270971, 117650, 725203, 718761, 242013, 291044, 983758, 798702, 884453, 796582, 630788, 363424, 86037, 208332, 941077, 827802, 598045, 254362, 138075, 610326, 932761, 153144, 210984, 31786, 153852, 167272, 822555, 812617, 15784, 361437, 953138, 360778, 66903, 991721, 223436, 776484, 992450, 459038, 297306, 943285, 882762, 38451, 817647, 958254, 424736, 892280, 483284, 889623, 33240, 160785, 436904, 298774, 361474, 561275, 670922, 362110, 61583, 769940, 894028, 472772, 302550, 504711, 75481, 702203, 315105, 382104, 913084, 785155, 303180, 451243, 212398, 790432, 62905, 516844, 525259, 437807, 274762, 867156, 645766, 471115, 99202, 845412, 740013, 237920, 275536, 450154, 725291, 129787, 124890, 190930, 921052, 43704, 771764, 915286, 226218, 747366, 622288, 662610, 128868, 909596, 925284, 3487, 480864, 297423, 362634, 768204, 116384, 258124, 706592, 382868, 777512, 298072, 877670, 509583, 782541, 230698, 9824, 319495, 496367, 429883, 382060, 707959, 608902, 288400, 131229, 100253, 320676, 590223, 278173, 655238, 451074, 54565, 727166, 667218, 929408, 647133, 43686, 983825, 960441, 36460, 170388, 448820, 158921, 374858, 132081, 498535, 462419, 886833, 730818, 249128, 662705, 557103, 382973, 406417, 609031, 812546, 531040, 806965, 275751, 746169, 664338, 44389, 558137, 526701, 398908, 418139, 649859, 266707, 491278, 567351, 32271, 882395, 640400, 938254, 639734, 321368, 609336, 675193, 16074, 675148, 458973, 170168, 805308, 732131, 418186, 715796, 499146, 370620, 53058, 155640, 518646, 951024, 318376, 37044, 470463, 1481, 227340, 197164, 662368, 234018, 690068, 45419, 337668, 701070, 65141, 756074, 426034, 469222, 509737, 615005, 441957, 424631, 224629, 978445, 935283, 982870, 68171, 440048, 403789, 826012, 508420, 665377, 77316, 569757, 533908, 225579, 211310, 671622, 949861, 260263, 150753, 746038, 955486, 627371, 10119, 714166, 119476, 822173, 41820, 94715, 573430, 458239, 201867, 672701, 434824, 162055, 634017, 772408, 774356, 805790, 229821, 933736, 534305, 457079, 407700, 601541, 833117, 122930, 127518, 297350, 496586, 985814, 707124, 915099, 254493, 49089, 106649, 879987, 383497, 282180, 409431, 826103, 420592, 206704, 558284, 226325, 944950, 247689, 334137, 740975, 62834, 895724, 224115, 55368, 767888, 966230, 959487, 713373, 159068, 45529, 630716, 956325, 930519, 492406, 674091, 364588, 389840, 891621, 178735, 439362, 122574, 932477, 949523, 623921, 662388, 466844, 707143, 595602, 73890, 530721, 37302, 881419, 496461, 483252, 444743, 812430, 255588, 791685, 90070, 904602, 800902, 963230, 451266, 422865, 423430, 539262, 767399, 477248, 425037, 481883, 99331, 378418, 437477, 616735, 554937, 14626, 243523, 956078, 308341, 535580, 652414, 589020, 647923, 922847, 67084, 410363, 715943, 809018, 796486, 145024, 470098, 316307, 406692, 183996, 55395, 978985, 955701, 794439, 880540, 78631, 207981, 351910, 883203, 206883, 727678, 521218, 117660, 362573, 790305, 100022, 148944, 7241, 299047, 520176, 828183, 706863, 394501, 343187, 326891, 65113, 48580, 256150, 619344, 535604, 844415, 944721, 751250, 804423, 393890, 391949, 435693, 526693, 270756, 362047, 828453, 833094, 866894, 488531, 982718, 479433, 640087, 301795, 870688, 380792, 981813, 732300, 317967, 608854, 866247, 498142, 509796, 909961, 712589, 635985, 387018, 455664, 383772, 177465, 376408, 359594, 743702, 280902, 286728, 186022, 452001, 393727, 404338, 652053, 347290, 867998, 845158, 43865, 997752, 627078, 152821, 197312, 685288, 340456, 883724, 32383, 370418, 230953, 825421, 883014, 421650, 248084, 242902, 972074, 340914, 236867, 320672, 455296, 671529, 265837, 813814, 251927, 816780, 615668, 646155, 939754, 851207, 173002, 463221, 625971, 424958, 133437, 712740, 914286, 569983, 75458, 115733, 698476, 456880, 616881, 495626, 78968, 769070, 277922, 867243, 461730, 635810, 209611, 693552, 224790, 612866, 531151, 150557, 330226, 288073, 400216, 199484, 941556, 943188, 865609, 567794, 578570, 857850, 825849, 957759, 833544, 165297, 130476, 728329, 300451, 945816, 591205, 40258, 436264, 492687, 545762, 286912, 80985, 797243, 56902, 354545, 606598, 62118, 494423, 592526, 355826, 607444, 41156, 486121, 647829, 113282, 134946, 339142, 314067, 941386, 846224, 694610, 536354, 298409, 883058, 176472, 596102, 521001, 1342, 178294, 262835, 826363, 367455, 311105, 601587, 940362, 582329, 941525, 495084, 186292, 725774, 125648, 206420, 401558, 479520, 222245, 604577, 598333, 815363, 893171, 766722, 217240, 984018, 993942, 346027, 375846, 732771, 530203, 748951, 485963, 237607, 537935, 857197, 733566, 57675, 735315, 248978, 447235, 260904, 382218, 386167, 881820, 364081, 486172, 455261, 187380, 204539, 951079, 687651, 944340, 820297, 208445, 750007, 750707, 848222, 514814, 598183, 906202, 328345, 70309, 593584, 859878, 420391, 676225, 207131, 276390, 391365, 347549, 395114, 612413, 276529, 8889, 642333, 475897, 281743, 503030, 850124, 843533, 986163, 215287, 958676, 830983, 219063, 665875, 236464, 38870, 919370, 779282, 25366, 660273, 619769, 187244, 342663, 819137, 377784, 374926, 148596, 877709, 297656, 560623, 356158, 755041, 655414, 149557, 234339, 447846, 400772, 394126, 460889, 191261, 330958, 415523, 305393, 969139, 99811, 727746, 476816, 708280, 331120, 211148, 944604, 853015, 498462, 630300, 813413, 927849, 122923, 219742, 813289, 971188, 875542, 8732, 989495, 856771, 101583, 646134, 536934, 642638, 744018, 896161, 929284, 694155, 986791, 953199, 925717, 748069, 78928, 365807, 797128, 664961, 239082, 330919, 257321, 882602, 297718, 701969, 245306, 528600, 157443, 915888, 99922, 813496, 709229, 744122, 263082, 941703, 472500, 477887, 504517, 859570, 385284, 64611, 483914, 241416, 521051, 298070, 785459, 656023, 937033, 299176, 806492, 742033, 970785, 959243, 465032, 353425, 274854, 529516, 850778, 145251, 50734, 446579, 577776, 801584, 658079, 602321, 30711, 805453, 558794, 934898, 550377, 852712, 343647, 120880, 200118, 397802, 870706, 346348, 940048, 942332, 739020, 94435, 190334, 711869, 992242, 616819, 27892, 608933, 619935, 459939, 567220, 848315, 873031, 844452, 72466, 30622, 535040, 977363, 273140, 96612, 186187, 945869, 442766, 204299, 138910, 925715, 507735, 36328, 752520, 769461, 884611, 239152, 555749, 724516, 603922, 500538, 820747, 947564, 110926, 621848, 161487, 581175, 650660, 784741, 498204, 960806, 248662, 471966, 763797, 891991, 336743, 672937, 401769, 801027, 90403, 833975, 376324, 902554, 873386, 30379, 424486, 367922, 141076, 301789, 932846, 344719, 92993, 582355, 286417, 808750, 274653, 603390, 884688, 462958, 874982, 5822, 320517, 751863, 910907, 401478, 515181, 907339, 592598, 240938, 156627, 970141, 300135, 220899, 220212, 440384, 593581, 472556, 71242, 422616, 429662, 541857, 117560, 407384, 804887, 822443, 861701, 781560, 482948, 256036, 835094, 292465, 70880, 460979, 8170, 428858, 656497, 793529, 759753, 577255, 531011, 349818, 969126, 408213, 804425, 757258, 689638, 546732, 258139, 287666, 655327, 532183, 510315, 942751, 216938, 685554, 161132, 46337, 793508, 945940, 535559, 534640, 418895, 344393, 624918, 78902, 611245, 455294, 507084, 57274, 9780, 6244, 863615, 932176, 221505, 827934, 740303, 748440, 181060, 234894, 810468, 148913, 363369, 840498, 438029, 474923, 872200, 199335, 251808, 252865, 155849, 272137, 663138, 829293, 893271, 589091, 705196, 261193, 154161, 613156, 426824, 448950, 109573, 79229, 312960, 670376, 571386, 712169, 224441, 232303, 562131, 615348, 97360, 498168, 17097, 197695, 164264, 404412, 913228, 986629, 44347, 312290, 135255, 125401, 315344, 119027, 871390, 762461, 940225, 956450, 921117, 227279, 69534, 69259, 365725, 862106, 198883, 475002, 262289, 276206, 179002, 898272, 405571, 239222, 793694, 623791, 754639, 934229, 411527, 503473, 969154, 869711, 949472, 215126, 123066, 857570, 92222, 91712, 714263, 927232, 993860, 497422, 418488, 389072, 239195, 466641, 811912, 473826, 554701, 537302, 676018, 935169, 36848, 168033, 237118, 280728, 132677, 715788, 499623, 572246, 90984, 702585, 119824, 384105, 8850, 863478, 505152, 785630, 510099, 782819, 62886, 168357, 112462, 430236, 470176, 768668, 338647, 545738, 393922, 859770, 183855, 167809, 450187, 454461, 57335, 352233, 858740, 413998, 497196, 865323, 824667, 38629, 334710, 656470, 767462, 475536, 784651, 726988, 79515, 31896, 979875, 288546, 935079, 852046, 269052, 161014, 592983, 868357, 696771, 931131, 889477, 959494, 980053, 801515, 45680, 823777, 561295, 455553, 309993, 171380, 682930, 439552, 629778, 838099, 924816, 461267, 622462, 338218, 864850, 414212, 471152, 603357, 882870, 290974, 787995, 139532, 305315, 126598, 389981, 810129, 659410, 232210, 28795, 214944, 869142, 600456, 796754, 426054, 457507, 893939, 132975, 662167, 147169, 198589, 969333, 381136, 907136, 676475, 541961, 845202, 206330, 291529, 23426, 164656, 46767, 199724, 588184, 238400, 744601, 892476, 81574, 159184, 26864, 164779, 284877, 124285, 274945, 497808, 792610, 997948, 862983, 192799, 694380, 241990, 591390, 777682, 286981, 672318, 60091, 565223, 558924, 957193, 863608, 545709, 474577, 556199, 370133, 204543, 16470, 279655, 444484, 980569, 873486, 945539, 384343, 203677, 712346, 979253, 655096, 604854, 404494, 396187, 285392, 681026, 498199, 571765, 742298, 600812, 254088, 938565, 785771, 343415, 427241, 682870, 448571, 997371, 329924, 583008, 86137, 243093, 183585, 533775, 482759, 644256, 213314, 638716, 703894, 137349, 224504, 371625, 510587, 173155, 162919, 148714, 693281, 780531, 193576, 831869, 954738, 420532, 132968, 491352, 773009, 975543, 140082, 598076, 909319, 601609, 241576, 654471, 124674, 251037, 415273, 489172, 524544, 769218, 941264, 237281, 247280, 74203, 691983, 594713, 278893, 119740, 760835, 701971, 171562, 89949, 634699, 87920, 981164, 43599, 781278, 457011, 810268, 966843, 446117, 202340, 249990, 200594, 867188, 933488, 31516, 579521, 807139, 431296, 558305, 27333, 761132, 597274, 861069, 991188, 952839, 326872, 871581, 520809, 571552, 381765, 824115, 159456, 757372, 351236, 435728, 184230, 568780, 392547, 761333, 688487, 471057, 570208, 783107, 896890, 917498, 402596, 373726, 326143, 449273, 966175, 63226, 736803, 532145, 522266, 667579, 126627, 51380, 784848, 418825, 145927, 749956, 114355, 965668, 383466, 783335, 956145, 510383, 61389, 670584, 550486, 746552, 728690, 622900, 208712, 80651, 26820, 878555, 596822, 757374, 461930, 355921, 371606, 442467, 419392, 465304, 399313, 439934, 200477, 156468, 278806, 617666, 634857, 42334, 504180, 178990, 735695, 595201, 487634, 54927, 316658, 175941, 354690, 801409, 159329, 292242, 256568, 458970, 741734, 467258, 12889, 984433, 525771, 681598, 775571, 612747, 107935, 17826, 191349, 584805, 499989, 637431, 9307, 131477, 907134, 729085, 681196, 67850, 591941, 523418, 560222, 46695, 527071, 771866, 735684, 51630, 763006, 982393, 498299, 154969, 637575, 176158, 952410, 553678, 954248, 98821, 454900, 909922, 885576, 507053, 232272, 816195, 5874, 426640, 738274, 696540, 565366, 654043, 49858, 399210, 496285, 8746, 752604, 672047, 747261, 465745, 194035, 880411, 982309, 589792, 259325, 500527, 735667, 401872, 403317, 152071, 626267, 952902, 192973, 210162, 40263, 377004, 697217, 551405, 414025, 600089, 774720, 789175, 394239, 494903, 110920, 701743, 849534, 164761, 523606, 11249, 13300, 194867, 486920, 890943, 14994, 973939, 614089, 25036, 944333, 399311, 886381, 511704, 617407, 180374, 692304, 194013, 682155, 920254, 588140, 52678, 50271, 667094, 848134, 17397, 63205, 951982, 280774, 456294, 771374, 102635, 537069, 542972, 669855, 169415, 116809, 549275, 98532, 633689, 480792, 963090, 668195, 337851, 785928, 646830, 245434, 247555, 741191, 523663, 694615, 811860, 823554, 395249, 808819, 154197, 919834, 951455, 772384, 34205, 303007, 173561, 931722, 764527, 179425, 195463, 381581, 86826, 532219, 199529, 448910, 623205, 571841, 305226, 369268, 159164, 448883, 467282, 344752, 343853, 347783, 615586, 871715, 299818, 748840, 96785, 707929, 925116, 884101, 175164, 796922, 331078, 696109, 48905, 669406, 165862, 772785, 1573, 383509, 751195, 887660, 185606, 828776, 595467, 349132, 614482, 462165, 678143, 498955, 250498, 588281, 661360, 831817, 722897, 719880, 426236, 635354, 216811, 255866, 387831, 886621, 54028, 427919, 889116, 477191, 225232, 257525, 384383, 100371, 154804, 335007, 62290, 93134, 946933, 279593, 751753, 722539, 130846, 721670, 387266, 498471, 799094, 518085, 965751, 164208, 300572, 335281, 640034, 925786, 715151, 618691, 263043, 567173, 543765, 746095, 350271, 410307, 182873, 868871, 901444, 624511, 402122, 605581, 950049, 274111, 883747, 577827, 507980, 703592, 918424, 994130, 34030, 411197, 557778, 669207, 659262, 807877, 297538, 542934, 410829, 253198, 973206, 124361, 232896, 6924, 211611, 408022, 495896, 63896, 707226, 195620, 349994, 344211, 772984, 907276, 514488, 513548, 180074, 899080, 846548, 917277, 999897, 169512, 977436, 441485, 981321, 252929, 451021, 21965, 557553, 79905, 100138, 7096, 752139, 16156, 696673, 64595, 272626, 213320, 41239, 956643, 483775, 538722, 239211, 405650, 381590, 611038, 700535, 183098, 816572, 516198, 607373, 734324, 520232, 996381, 232576, 484064, 719101, 314367, 372851, 251160, 244226, 669777, 297227, 235724, 330471, 126015, 842609, 525530, 557780, 957407, 489164, 107628, 53049, 867994, 717252, 88169, 930780, 46105, 388153, 387048, 95334, 299728, 678105, 55643, 262514, 613295, 703069, 856827, 483706, 401472, 343276, 546274, 905057, 566768, 162463, 512609, 400072, 25852, 178210, 534192, 833486, 458259, 600061, 602339, 364189, 157754, 80532, 297741, 523106, 140352, 712012, 356278, 649424, 266974, 938359, 369026, 101243, 187610, 622323, 382110, 431996, 554207, 579090, 845444, 566343, 626518, 828422, 374516, 146245, 290549, 71995, 226061, 182677, 79815, 861520, 343612, 561859, 811784, 677760, 332495, 632404, 841439, 499073, 962736, 851359, 71102, 13341, 194736, 423469, 132516, 611545, 614307, 460775, 178799, 540963, 483636, 365318, 132072, 751078, 281858, 85164, 151633, 753407, 599228, 445460, 45470, 942102, 460490, 252039, 231663, 420605, 400695, 998590, 938938, 18910, 726050, 502971, 460500, 202666, 843894, 758099, 981571, 599925, 254297, 472869, 609566, 529784, 925283, 878559, 265699, 114255, 384450, 711783, 642964, 374073, 899026, 452969, 909904, 219671, 4659, 964225, 882383, 941341, 621041, 396894, 854379, 71399, 536116, 319089, 368391, 544665, 224700, 635749, 373464, 564011, 547331, 837384, 504712, 719554, 718628, 327134, 649576, 964084, 465255, 138000, 345758, 277650, 107401, 839348, 307266, 18922, 784967, 637349, 241081, 117834, 366639, 625151, 13240, 644690, 711936, 511411, 606140, 680034, 170697, 187752, 75647, 606066, 45254, 945345, 301318, 583400, 115795, 979793, 4773, 865878, 977507, 217287, 533417, 539359, 865832, 239678, 958309, 509386, 42518, 404538, 959709, 934090, 672613, 466702, 145071, 886907, 543021, 517818, 46923, 487288, 85501, 34358, 610207, 181887, 119125, 126615, 502252, 537497, 12599, 880739, 772948, 34905, 169390, 334979, 190458, 872396, 164855, 748645, 105977, 573607, 225731, 889725, 293718, 282797, 635996, 469837, 961122, 59365, 783216, 21636, 714842, 964104, 597426, 47964, 780301, 114238, 176252, 970212, 902359, 604343, 430341, 727414, 246985, 259412, 332178, 913904, 923708, 741228, 313189, 599085, 797768, 134105, 26009, 796030, 583861, 543523, 917726, 253446, 407417, 291533, 741294, 23090, 522294, 725687, 651152, 535303, 966675, 348778, 144698, 304772, 8881, 246015, 912956, 416632, 10615, 857102, 450532, 654613, 498853, 370881, 826755, 541067, 529626, 198046, 165241, 403989, 588544, 424224, 321784, 971942, 184547, 776574, 630278, 904742, 968017, 608257, 614847, 471794, 604602, 499344, 441237, 573370, 154015, 135227, 648501, 355439, 320416, 788813, 684220, 565355, 202904, 252717, 76056, 903160, 969599, 708436, 39730, 341677, 785524, 750473, 789786, 717714, 734461, 287660, 773962, 25545, 979307, 599742, 868309, 289708, 571109, 359065, 981772, 605903, 234736, 294080, 954867, 350968, 441620, 700513, 165699, 362294, 115969, 326431, 316541, 661238, 643291, 988742, 165607, 168583, 983603, 292728, 425260, 428423, 982925, 833470, 841513, 674652, 748818, 257270, 735588, 144940, 307095, 866031, 528629, 954195, 103112, 566714, 371957, 6792, 772140, 196821, 179935, 663106, 127070, 751601, 568355, 336142, 857926, 358845, 816773, 994903, 707543, 364506, 324607, 919092, 1968, 8421, 71247, 308939, 717917, 716586, 362833, 569962, 41651, 754363, 233511, 771224, 323597, 693518, 17891, 381236, 523121, 49975, 131181, 94749, 691445, 138647, 890841, 606452, 691562, 919827, 525288, 658549, 840116, 216932, 196621, 470155, 246986, 366971, 129046, 671572, 329724, 550527, 134976, 338275, 129186, 963644, 525822, 555566, 954331, 489955, 15175, 796270, 225446, 951810, 975017, 577311, 391759, 626917, 323679, 77490, 444469, 66440, 542854, 466178, 522965, 615364, 183425, 715470, 337354, 504351, 461898, 333106, 347534, 578139, 892284, 384570, 192688, 984825, 619326, 36807, 211561, 613132, 364914, 263623, 649913, 350673, 456356, 683642, 325653, 116010, 531408, 482271, 730612, 465387, 670195, 725653, 865181, 22439, 632168, 1146, 378758, 411147, 948619, 971905, 725374, 572103, 415203, 917268, 773899, 470235, 386902, 733001, 610791, 959930, 279211, 360147, 801472, 418365, 724680, 424558, 318275, 133347, 626045, 294552, 570119, 807754, 756651, 969926, 517960, 288844, 332035, 588325, 452591, 859299, 466095, 690069, 260657, 124940, 3989, 75350, 897986, 293759, 424986, 589572, 626457, 704286, 132305, 745972, 733591, 630160, 590895, 41150, 213743, 697033, 520253, 368678, 168019, 261591, 113824, 667882, 744739, 279022, 420599, 570988, 666150, 876765, 511012, 863940, 90565, 807800, 712130, 84188, 705821, 153914, 412592, 855536, 915718, 342118, 634841, 113692, 231594, 181343, 746282, 767317, 435298, 801236, 706311, 791511, 233768, 363307, 254068, 172220, 23051, 238769, 868535, 179932, 531702, 166740, 765194, 715926, 14370, 72333, 381576, 67845, 179534, 432963, 67158, 945924, 464764, 910287, 274611, 393249, 287078, 978365, 872919, 886210, 691104, 191344, 351582, 323899, 155805, 441424, 571112, 447362, 429721, 477917, 984144, 162293, 558810, 769543, 319838, 846481, 217103, 672406, 14860, 516377, 937949, 289713, 435794, 552281, 686611, 608619, 676090, 509277, 814527, 65720, 550062, 494801, 464106, 985730, 195323, 552949, 251671, 961063, 457447, 227241, 594796, 384184, 583891, 571527, 950951, 250828, 353314, 159697, 289631, 9527, 950751, 946072, 268724, 97340, 279609, 70494, 588481, 128721, 956433, 559676, 817880, 38866, 45303, 14197, 216745, 437872, 519396, 710275, 388706, 884723, 300914, 244048, 768618, 935600, 866474, 755912, 700872, 750156, 689843, 754607, 286325, 502976, 238269, 932077, 541229, 789334, 521451, 890658, 512573, 119927, 930431, 445406, 106534, 575149, 437689, 464413, 60887, 346621, 215220, 879408, 523526, 562292, 379124, 733432, 865112, 100568, 506626, 884556, 444422, 621393, 955242, 534625, 883400, 506133, 97834, 298732, 364830, 164239, 399935, 741127, 186626, 433077, 341693, 120753, 781012, 183356, 206148, 684079, 742057, 604984, 493420, 724660, 723541, 731816, 501957, 278834, 226323, 201489, 608818, 991536, 686168, 42425, 973254, 910438, 918420, 720607, 502343, 368906, 821923, 810841, 81144, 64900, 592383, 853834, 808821, 565897, 147725, 225289, 791393, 578967, 101580, 847432, 687404, 766877, 184419, 266319, 154066, 328764, 613508, 567864, 239743, 528290, 923555, 82804, 368157, 544140, 66562, 126488, 275694, 41366, 281127, 450723, 547164, 970240, 571997, 593474, 3968, 845484, 290201, 101567, 532987, 704148, 318468, 71570, 577798, 290428, 468429, 353369, 818990, 147095, 605379, 361601, 371087, 121893, 802015, 852933, 109586, 442154, 124656, 998483, 821292, 308391, 535974, 691298, 800925, 726076, 100034, 13015, 258035, 477836, 704217, 36786, 95602, 989718, 136793, 843884, 471037, 240194, 189541, 662235, 116280, 793025, 575501, 97779, 62678, 371895, 645485, 764867, 791641, 422892, 557335, 259222, 936420, 984742, 641563, 950916, 425416, 547558, 280156, 231942, 978780, 525066, 752211, 860880, 312483, 520295, 628103, 591669, 973493, 905876, 92458, 609461, 733070, 92888, 428427, 143304, 570486, 845605, 781375, 155753, 865027, 687200, 432170, 566472, 171918, 64935, 660022, 662773, 715955, 890037, 571144, 740846, 476154, 803463, 419406, 230235, 435148, 752571, 926311, 898034, 914484, 314753, 680894, 548093, 285083, 613503, 321481, 134554, 111762, 958609, 315687, 197021, 17022, 996235, 513576, 525911, 446316, 926569, 777412, 948254, 147549, 912892, 345646, 928331, 160980, 121876, 819993, 372667, 926992, 94060, 586941, 928027, 879648, 886655, 19722, 690145, 616681, 93630, 402936, 429397, 101003, 234583, 797518, 13236, 604408, 9475, 882291, 904479, 719545, 408011, 734223, 20509, 655007, 533944, 626188, 370441, 931489, 718896, 729118, 818861, 390491, 134778, 749076, 115012, 534836, 147149, 316953, 33749, 197753, 111030, 244169, 565711, 356998, 593020, 333695, 643997, 737714, 936155, 72899, 936482, 28990, 604561, 520265, 787263, 88395, 470579, 65883, 287280, 860680, 219886, 698424, 691487, 974414, 515311, 412830, 955783, 284792, 729815, 928583, 236240, 76321, 336109, 520216, 61572, 825745, 516987, 311445, 573133, 579740, 256108, 521045, 252338, 7493, 791385, 834141, 528105, 6717, 319090, 387780, 635899, 124627, 26773, 979169, 174497, 275117, 747707, 483785, 604519, 386391, 344306, 291824, 691649, 228437, 761472, 28578, 561964, 867060, 559007, 724091, 171189, 801253, 942233, 689343, 89763, 469396, 107237, 131914, 791990, 406562, 942925, 24859, 463572, 914974, 999022, 433362, 228874, 419170, 285274, 906479, 683607, 942853, 925322, 611027, 328693, 356290, 851636, 451431, 355533, 770442, 970531, 327329, 990412, 298451, 198136, 488260, 770772, 513274, 816587, 103575, 757466, 998577, 870220, 854224, 414822, 743515, 362829, 971900, 792629, 622955, 561124, 668962, 654310, 576563, 681886, 71522, 873169, 780905, 285446, 818746, 865317, 154751, 173491, 638894, 785278, 414200, 937230, 456429, 839583, 930054, 966198, 144550, 879426, 701378, 467342, 273356, 324952, 155502, 592019, 43337, 541796, 888210, 604826, 882625, 265536, 492522, 206802, 389985, 557964, 136477, 339831, 804994, 187905, 945006, 722495, 389577, 996258, 38958, 286225, 52536, 701020, 583419, 733383, 594893, 483356, 39271, 791623, 795788, 368419, 531860, 868722, 38475, 351976, 65766, 113919, 465364, 734000, 85139, 634824, 399790, 873550, 495693, 977401, 294187, 61518, 166722, 206395, 412229, 283051, 163936, 768688, 314358, 522052, 803587, 403398, 115224, 277976, 675333, 262546, 935775, 643651, 184156, 331634, 383259, 205419, 218520, 93138, 371291, 29033, 369249, 207275, 734098, 972526, 698908, 144087, 479089, 915967, 816972, 201049, 23414, 786691, 796766, 700018, 323206, 119813, 949558, 286366, 21195, 669268, 842095, 375627, 464738, 462801, 90571, 305030, 848171, 146873, 873136, 262133, 347242, 442388, 322327, 429729, 177694, 208619, 583870, 870972, 176904, 853298, 115400, 359003, 709071, 15219, 931999, 217468, 964921, 801997, 307930, 197542, 572409, 954772, 971290, 198030, 606415, 176383, 467888, 605529, 397040, 562571, 934570, 367553, 433887, 622987, 688802, 427658, 978603, 352486, 924744, 858639, 124158, 416793, 411721, 375280, 544874, 163563, 758669, 302611, 367881, 836873, 471306, 994480, 22833, 468797, 246413, 449638, 722328, 243953, 123468, 348647, 626290, 518003, 974397, 975982, 268811, 280618, 878356, 991892, 5544, 162535, 50489, 796073, 440258, 163065, 374879, 12632, 642541, 214955, 443846, 758828, 310690, 968356, 846843, 405467, 629770, 765385, 141041, 453885, 787745, 676622, 475557, 655608, 940786, 462668, 354855, 120113, 574933, 635020, 148831, 540416, 646152, 149054, 760922, 541835, 406524, 546386, 47557, 238552, 601441, 999653, 340813, 824053, 316411, 313011, 89939, 4285, 497439, 482414, 680597, 597624, 211603, 927681, 379261, 321238, 529985, 738211, 548114, 703901, 849035, 166447, 944857, 766405, 31670, 22317, 586344, 957950, 243117, 606481, 2280, 230278, 235278, 713952, 25002, 119710, 88458, 105662, 357945, 220955, 691181, 297546, 591547, 16446, 320317, 668404, 864059, 171015, 332635, 473254, 877271, 8026, 895881, 661809, 496958, 693885, 310185, 30409, 994495, 18151, 8856, 416315, 932766, 960839, 99190, 758858, 638034, 993024, 354519, 876208, 79699, 24544, 414193, 959185, 622018, 137574, 482146, 519540, 461008, 373117, 572573, 941417, 397106, 165661, 133599, 774511, 479843, 867662, 319454, 25999, 204065, 171422, 77664, 455173, 96439, 667350, 855237, 593366, 986304, 334720, 413814, 705892, 998498, 596162, 227898, 45147, 977873, 244093, 68256, 796082, 648027, 31242, 570074, 143588, 500023, 79426, 930350, 659973, 896333, 383843, 226371, 506647, 878471, 82135, 877962, 329271, 275138, 978922, 705452, 707478, 773276, 812497, 514330, 349596, 721511, 170742, 89716, 735385, 418136, 374291, 226185, 781354, 39901, 271534, 733492, 774962, 230203, 23027, 854171, 305456, 584195, 513523, 654579, 707383, 402669, 121272, 778269, 632239, 459334, 174988, 493845, 93373, 91491, 169086, 584118, 881458, 788601, 555982, 575365, 154771, 929630, 110046, 983135, 620501, 125340, 888853, 684989, 184147, 361677, 61099, 756176, 406235, 8097, 899806, 434358, 666103, 946330, 194366, 631706, 919648, 461451, 365461, 800014, 196818, 204701, 42823, 556873, 565195, 743840, 462264, 364712, 6540, 248037, 735716, 930180, 10666, 833587, 830, 802581, 223554, 446301, 362192, 47429, 845957, 654180, 446164, 414584, 789944, 694058, 158537, 281166, 552187, 549418, 621259, 714571, 854442, 133308, 282015, 829774, 558613, 769411, 310499, 439509, 237161, 748925, 33940, 934895, 95920, 221902, 783840, 968719, 746281, 5560, 673440, 619374, 295286, 168301, 575, 294198, 292550, 228388, 705575, 548934, 281338, 646786, 629895, 546487, 262585, 31018, 529786, 774201, 27063, 849954, 822298, 682709, 668457, 62445, 91788, 764503, 284872, 171317, 480003, 850828, 672212, 359900, 834947, 867063, 829928, 323088, 914364, 73172, 821710, 816975, 959344, 939586, 589575, 857477, 20859, 770418, 959453, 305817, 719430, 193429, 79440, 326274, 633357, 105792, 391826, 368098, 133371, 508678, 791317, 14055, 94531, 639752, 716977, 352497, 134876, 167210, 659388, 412249, 232472, 427621, 92714, 761778, 789907, 54170, 859404, 26842, 294273, 854819, 406834, 514879, 884345, 50105, 996308, 758254, 904605, 122114, 392879, 628947, 902754, 725205, 718698, 957545, 514752, 392719, 301662, 17115, 318054, 553712, 223574, 388199, 802353, 256361, 442150, 349950, 675159, 724734, 413562, 635667, 349125, 104713, 631289, 127899, 641947, 279187, 31586, 78430, 112072, 187653, 913345, 227608, 540338, 135866, 768788, 222910, 60479, 165450, 439352, 487260, 985097, 285762, 794455, 703157, 231139, 988464, 271420, 590860, 81644, 733506, 534117, 566621, 275239, 595967, 635948, 974933, 985209, 536999, 536863, 287847, 953212, 350983, 72736, 545255, 50959, 448980, 524674, 859943, 57305, 358574, 483281, 549487, 539167, 20831, 307411, 688292, 316772, 291966, 985802, 103450, 740917, 853687, 245891, 288565, 546451, 350875, 469007, 951695, 558976, 146338, 267399, 505747, 916795, 971148, 774365, 65638, 494995, 991514, 628750, 633127, 983338, 119604, 34930, 954709, 353812, 360613, 790109, 615750, 754463, 367195, 474146, 234689, 816617, 906655, 353911, 869690, 450934, 866202, 616219, 69764, 784229, 254724, 666501, 726512, 928072, 594295, 481081, 884542, 501339, 611214, 214999, 640036, 582676, 597795, 995800, 611138, 691071, 284413, 606206, 483304, 4729, 130601, 905831, 891918, 803697, 924877, 627094, 592379, 431591, 236289, 452521, 579498, 558406, 743792, 2434, 101806, 557435, 947343, 616101, 839516, 338532, 808555, 552147, 808305, 101256, 409007, 434604, 363876, 159429, 824950, 998859, 726607, 732922, 918765, 497974, 725216, 764357, 297503, 937546, 459582, 9709, 550323, 937319, 195602, 471932, 617987, 152723, 33223, 187088, 836810, 38281, 364315, 836754, 824228, 987384, 999691, 513913, 453901, 941420, 208435, 346439, 278864, 432247, 497411, 219068, 649658, 533969, 369076, 750968, 183931, 387639, 357518, 619874, 540020, 580081, 48611, 554295, 27092, 965291, 578520, 674580, 403632, 289869, 953370, 870640, 543898, 818875, 149710, 569038, 922720, 634347, 553245, 923854, 124616, 729652, 116528, 540534, 886622, 182395, 622420, 411317, 388060, 870767, 365744, 2914, 466869, 291679, 611844, 577049, 982019, 791463, 58650, 554137, 128452, 105997, 197463, 565911, 327627, 955313, 287294, 979071, 247778, 21639, 399953, 234803, 527416, 69040, 701252, 693732, 812525, 588189, 191240, 762222, 663045, 353708, 65334, 404887, 434289, 600955, 788587, 570499, 349889, 597739, 406206, 22377, 145566, 238793, 343886, 4272, 947936, 69396, 96233, 745848, 803448, 602261, 767112, 411782, 431049, 641515, 541031, 966756, 936434, 349573, 481346, 520224, 609748, 223434, 145690, 854848, 56161, 582580, 434965, 911297, 977848, 82137, 991679, 140512, 620701, 624968, 192682, 311425, 179544, 759876, 141327, 183140, 845169, 5362, 936577, 299531, 77125, 791510, 79185, 950577, 882449, 20815, 16558, 650854, 267345, 56619, 306467, 405792, 206531, 226295, 664583, 558623, 794813, 439007, 689238, 685962, 872413, 766030, 695061, 848928, 125364, 543976, 635200, 974421, 252053, 180839, 581228, 349975, 608711, 537121, 926834, 638704, 977132, 458690, 433885, 816844, 418339, 257140, 321084, 368558, 699458, 931591, 89932, 270519, 695495, 345190, 271475, 890281, 788573, 136502, 918166, 817990, 829250, 935409, 135797, 471238, 821326, 807205, 914551, 226541, 419680, 395103, 322669, 534854, 133101, 678898, 476426, 772560, 232748, 700728, 162303, 673278, 756204, 403902, 749937, 787801, 115882, 276573, 451056, 823788, 887517, 802410, 213903, 670338, 149562, 793944, 1678, 273844, 770219, 346396, 646821, 145353, 776505, 962870, 829220, 217135, 843785, 292475, 629871, 465558, 977978, 341100, 357771, 406046, 869349, 161558, 770210, 360775, 390911, 28007, 878514, 714250, 787742, 891670, 358554, 822314, 640559, 171358, 761643, 995735, 296120, 902220, 561121, 351139, 971031, 456312, 413589, 24064, 283763, 881035, 840872, 478132, 169486, 521543, 395136, 485294, 936146, 761764, 516764, 8787, 308975, 640348, 958611, 217481, 37288, 822793, 768220, 190103, 890682, 39412, 946410, 218306, 1741, 319957, 401255, 878897, 891330, 255265, 335205, 814613, 561990, 711732, 996951, 743856, 991676, 97849, 487597, 605120, 7872, 650337, 302731, 661469, 347811, 561826, 568116, 708911, 542954, 9715, 114964, 224212, 921261, 810408, 227722, 453581, 815736, 171291, 22646, 609123, 137577, 301867, 242844, 898912, 57192, 362642, 592790, 12972, 463794, 577628, 85769, 592792, 288204, 988722, 46266, 752809, 601928, 463495, 984250, 752620, 970543, 288402, 999585, 423550, 864084, 563393, 298755, 364375, 695906, 157433, 84152, 168213, 439908, 227999, 52676, 71883, 864128, 219491, 917680, 75174, 963542, 552328, 685963, 30990, 722936, 255828, 539770, 306931, 52971, 68733, 352361, 572314, 761367, 287004, 794085, 281323, 779038, 784648, 53075, 457595, 900390, 433385, 305296, 66786, 855938, 540816, 750565, 877037, 900976, 403525, 254185, 498172, 382394, 546216, 518473, 299752, 921944, 112753, 974374, 457193, 277839, 720911, 846795, 894372, 449732, 953889, 93622, 806312, 471124, 401193, 793431, 208987, 170075, 412094, 759297, 337813, 700321, 615612, 114781, 850584, 88673, 510272, 858008, 297385, 969825, 376381, 822441, 470471, 856917, 247536, 633173, 497039, 878751, 104494, 520425, 665607, 860258, 843945, 468013, 381428, 138942, 201817, 661440, 704636, 359782, 104863, 599298, 893083, 510214, 597934, 585300, 184815, 760788, 867914, 521360, 771034, 31475, 400873, 504344, 242490, 847130, 737315, 917355, 284122, 605459, 115607, 70640, 224238, 440235, 252090, 503348, 452302, 548004, 181436, 797045, 392248, 127627, 811510, 317957, 497306, 783983, 434307, 404167, 416525, 717700, 390791, 537949, 527596, 276505, 353456, 766351, 786883, 523838, 50158, 621558, 215258, 477753, 120477, 478579, 656941, 574602, 583540, 242954, 966216, 660706, 545667, 736805, 370805, 765245, 722212, 364524, 660554, 965755, 729105, 260903, 441747, 841863, 942575, 632138, 472758, 498828, 626130, 824917, 829778, 44900, 149596, 38932, 666896, 284358, 506701, 583936, 323174, 265115, 821418, 559331, 451167, 65808, 796610, 774117, 592538, 446645, 149013, 14774, 811850, 192357, 920482, 780822, 820488, 464420, 750254, 918252, 434710, 373842, 263576, 401882, 197106, 112751, 300046, 156196, 3051, 684745, 144223, 443745, 192042, 311894, 438071, 548218, 826014, 63899, 244904, 673146, 414412, 94800, 876921, 580472, 257916, 779637, 621695, 95314, 24332, 792463, 476709, 607722, 37289, 141093, 470886, 672013, 79836, 501885, 100431, 213271, 546882, 595924, 22239, 100740, 549467, 238544, 762721, 460747, 791712, 236633, 595890, 560344, 253752, 635524, 388342, 43559, 664474, 36231, 521413, 387697, 379475, 927575, 608954, 414766, 507928, 918564, 360746, 510281, 76887, 922792, 367205, 478084, 354490, 710954, 141593, 900359, 251205, 937140, 709519, 367616, 990090, 207667, 918014, 725601, 938903, 693072, 530642, 148391, 562689, 425910, 807957, 828150, 222607, 246706, 513347, 662623, 758910, 974716, 938217, 350299, 391128, 245148, 966989, 75121, 579278, 445677, 892968, 373002, 11206, 397591, 571762, 88338, 739883, 955887, 9341, 602383, 509365, 28415, 660447, 19654, 616352, 950270, 639424, 496025, 26448, 582567, 825068, 248941, 88577, 921824, 44231, 818151, 290556, 708239, 576712, 866788, 394089, 508525, 293395, 579182, 509175, 587710, 803239, 57208, 567209, 491045, 852282, 866936, 298252, 175036, 146854, 584807, 765666, 344695, 943800, 697383, 960545, 679135, 314793, 685031, 173177, 905107, 667420, 436093, 554635, 582937, 600781, 151275, 529152, 740091, 320233, 992343, 966825, 174992, 302270, 722828, 523411, 945139, 501229, 337164, 481511, 461144, 413977, 438219, 135172, 272486, 531520, 837959, 600335, 256528, 721790, 220220, 841489, 460148, 741556, 470377, 765747, 492097, 632930, 450685, 428340, 104487, 905362, 280327, 213700, 710820, 331794, 651921, 58422, 42592, 958893, 386533, 785587, 626985, 395042, 224954, 202135, 911996, 624600, 205442, 721703, 453226, 84923, 520307, 528272, 173597, 684097, 110257, 153322, 366578, 593704, 322811, 393317, 631345, 887056, 927280, 754133, 598248, 10994, 378212, 400557, 314760, 129956, 927958, 946673, 85483, 526949, 266535, 688003, 897088, 703172, 627251, 820771, 454967, 631211, 538779, 808312, 746755, 355085, 473610, 682252, 569720, 279758, 328283, 940115, 273017, 379068, 594527, 860156, 462206, 367769, 405232, 295553, 235375, 9633, 436467, 943056, 528328, 868639, 474457, 173710, 73218, 609931, 382570, 826314, 883524, 381473, 317411, 185195, 625455, 866854, 557351, 885404, 673006, 73118, 39339, 99741, 923554, 545824, 886452, 260846, 299034, 660445, 571238, 596279, 387863, 714353, 116091, 242080, 934164, 164436, 228417, 870373, 896665, 652412, 591819, 449928, 71991, 721234, 730238, 112585, 478729, 358834, 927799, 423556, 980103, 52987, 216345, 704090, 427831, 252567, 974205, 104404, 721728, 673816, 496287, 262726, 736903, 111524, 828649, 976343, 487905, 246877, 543654, 272298, 90123, 649529, 68778, 946806, 935475, 137527, 776747, 310225, 688440, 31892, 825693, 931124, 661529, 851896, 440653, 37403, 433855, 286736, 753813, 478596, 403316, 506195, 460138, 368950, 388685, 368693, 188262, 64427, 881901, 536235, 811908, 582169, 36626, 582322, 573458, 323863, 976315, 765994, 767749, 10462, 601489, 423872, 104223, 763297, 672894, 172325, 969626, 291615, 634732, 352539, 214629, 832070, 895909, 851392, 577765, 598, 5658, 808218, 488802, 365566, 311033, 804146, 161623, 159799, 746360, 299903, 191622, 316576, 324233, 107572, 691797, 965415, 918182, 769245, 744893, 944368, 376858, 887422, 577999, 542804, 31389, 346855, 699543, 643436]\n",
      "Number of subsets :  1002\n",
      "Total time of the procedure :  5.099306106567383\n"
     ]
    }
   ],
   "source": [
    "#Le temps d'execution grandit de manière simili lineaire jusqu'à n de l'ordre de 30/40 millions puis ça explose\n",
    "n = 1_000_000\n",
    "debut = time.time()\n",
    "\n",
    "m = find_the_mode(n)\n",
    "k = tirer_k(n,m)\n",
    "\n",
    "print(\"There are\",k,\"urns\")\n",
    "\n",
    "apres_k = time.time()\n",
    "\n",
    "print(\"Time to sample U : \" , apres_k - debut)\n",
    "\n",
    "linear_subsets = generate_linear_subsets_optimized(n,k)\n",
    "print(\"First equivalence class : \",linear_subsets[0])\n",
    "print(\"Number of subsets : \",len(linear_subsets))\n",
    "\n",
    "fin = time.time()\n",
    "\n",
    "\n",
    "print(\"Total time of the procedure : \",fin - apres_k)"
   ]
  }
 ],
 "metadata": {
  "kernelspec": {
   "display_name": "Python 3",
   "language": "python",
   "name": "python3"
  },
  "language_info": {
   "codemirror_mode": {
    "name": "ipython",
    "version": 3
   },
   "file_extension": ".py",
   "mimetype": "text/x-python",
   "name": "python",
   "nbconvert_exporter": "python",
   "pygments_lexer": "ipython3",
   "version": "3.9.1"
  }
 },
 "nbformat": 4,
 "nbformat_minor": 2
}
