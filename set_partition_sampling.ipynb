{
 "cells": [
  {
   "cell_type": "markdown",
   "metadata": {},
   "source": [
    "## Generating a random set partition of a given size $n$."
   ]
  },
  {
   "cell_type": "code",
   "execution_count": 1,
   "metadata": {},
   "outputs": [],
   "source": [
    "import matplotlib.pyplot as plt\n",
    "import numpy as np\n",
    "import math\n",
    "import scipy.special\n",
    "from mpmath import *\n",
    "import random\n",
    "import time"
   ]
  },
  {
   "cell_type": "code",
   "execution_count": 2,
   "metadata": {},
   "outputs": [],
   "source": [
    "n=1_000_000"
   ]
  },
  {
   "cell_type": "code",
   "execution_count": 3,
   "metadata": {},
   "outputs": [
    {
     "name": "stdout",
     "output_type": "stream",
     "text": [
      "87847\n"
     ]
    }
   ],
   "source": [
    "def find_the_mode (n): #Inefficient algorithm but it is not central\n",
    "    for m in range(1,n+1):\n",
    "        if math.log(1+1/m)*n <= math.log(1+m):\n",
    "            return(m)\n",
    "    raise Exception('Problème calcul du mode')\n",
    "\n",
    "m = find_the_mode(n)\n",
    "\n",
    "print(m)\n",
    "m = m"
   ]
  },
  {
   "cell_type": "markdown",
   "metadata": {},
   "source": [
    "The precision doubling procedure is not yet implemented"
   ]
  },
  {
   "cell_type": "code",
   "execution_count": 4,
   "metadata": {},
   "outputs": [],
   "source": [
    "mp.dps = 10*(math.log(n) + 10)\n",
    "def W (n):\n",
    "    beta = mp.ln(n) -mp.ln(mp.ln(n))\n",
    "    for i in range (15): # je reste à 15 pour l'instant : ça fait 5 000 décimales de précision donc c'est pas ça qui coince en théorie\n",
    "        beta = beta*(1+mp.ln(n/beta))/(1+beta)\n",
    "    return(beta)\n",
    "\n",
    "def compute_B_n_tilde (n):\n",
    "    return((3/(2*mp.sqrt(n)))*(mp.power(n/W(n),n+1/2))*mp.exp(n/W(n)-n-1))\n",
    "\n",
    "def g_int (m,n):\n",
    "    if m < 0 : return(0)\n",
    "    return(mp.power(m,n)/mp.factorial(m))\n",
    "\n",
    "def g_function (x,m,n):\n",
    "    g_m = g_int (m,n)\n",
    "    B_n_tilde = compute_B_n_tilde(n)\n",
    "    facteur = mp.exp(1-g_m*(mp.absmax(x-m)-mp.mpf('0.5'))/(mp.exp(1)*B_n_tilde))\n",
    "    if facteur < 1 :\n",
    "        return(g_m*facteur)\n",
    "    else:\n",
    "        return(g_m)"
   ]
  },
  {
   "cell_type": "code",
   "execution_count": 5,
   "metadata": {},
   "outputs": [],
   "source": [
    "def tirer_Y (n,m):\n",
    "    g_m = g_int (m,n)\n",
    "    B_n_tilde = compute_B_n_tilde(n)\n",
    "    bern = random.random()\n",
    "    if bern < 2/(g_m/(mp.exp(1)*B_n_tilde)+4) : #on est dans l'un des deux cotés\n",
    "        dg = random.randint(1,2)\n",
    "        expdistribution = mp.mpf('-1')*mp.log(random.random())*mp.exp(1)*B_n_tilde/g_m\n",
    "        if dg == 1 : return(m + 0.5 + mp.exp(1)*B_n_tilde/g_m + expdistribution)\n",
    "        else : return(m -0.5 - mp.exp(1)*B_n_tilde/g_m - expdistribution)\n",
    "    else:\n",
    "        return(m + (1 - 2*random.random())*(mp.mpf('0.5') + mp.exp(1)*B_n_tilde/g_m))"
   ]
  },
  {
   "cell_type": "code",
   "execution_count": 6,
   "metadata": {},
   "outputs": [],
   "source": [
    "def tirer_k (n,m): #Generates $U$\n",
    "    b = True\n",
    "    while b :\n",
    "        Y = tirer_Y(n,m)\n",
    "        X = round(Y)\n",
    "        if random.random()*g_function(Y,m,n) < g_int(X,n):\n",
    "            b = False\n",
    "    return(X)"
   ]
  },
  {
   "cell_type": "markdown",
   "metadata": {},
   "source": [
    "If one wants to look at the distribution of $Y$ and $U$."
   ]
  },
  {
   "cell_type": "code",
   "execution_count": 7,
   "metadata": {},
   "outputs": [],
   "source": [
    "# results = [tirer_k(n,m) for _ in range(1000)]\n",
    "# results2 = [round(tirer_Y(n,m)) for _ in range(1000)]\n",
    "# # Calculate the mean and standard deviation\n",
    "# mean = np.mean(results)\n",
    "# std_dev = np.std(results)\n",
    "\n",
    "# print(f\"Mean of outcomes: {mean}\")\n",
    "# print(f\"Standard deviation of outcomes: {std_dev}\")\n",
    "\n",
    "\n",
    "# # Plot the histogram\n",
    "# plt.hist(results, bins=30, density=True, alpha=0.6, color='g', label='Outcomes')\n",
    "# plt.hist(results2, bins=30, density=True, alpha=0.6, color='b', label='Random abscissa weighted with g(x)')\n",
    "\n",
    "# # Overlay the expected Gaussian distribution\n",
    "# x = np.linspace(min(results), max(results), 1000)\n",
    "# gaussian = (1 / (std_dev * np.sqrt(2 * np.pi))) * np.exp(-0.5 * ((x - mean) / std_dev) ** 2)\n",
    "# plt.plot(x, gaussian, 'r-', label='Gaussian Fit')\n",
    "\n",
    "# # Add labels and legend\n",
    "# plt.xlabel('Outcome')\n",
    "# plt.ylabel('Density')\n",
    "# plt.title('Distribution of tirer_W1() Outcomes')\n",
    "# plt.legend()\n",
    "\n",
    "# # Show the plot\n",
    "# plt.show()"
   ]
  },
  {
   "cell_type": "code",
   "execution_count": 8,
   "metadata": {},
   "outputs": [],
   "source": [
    "def remplissage_urnes (k,n): \n",
    "    urnes = []\n",
    "    # t = 0\n",
    "    for i in range (k):\n",
    "        urnes.append([])\n",
    "    for i in range (n):\n",
    "        # gtavant = time.time()\n",
    "        u = random.randint(0,k-1)\n",
    "        # gtapres = time.time()\n",
    "        # t+= (gtapres - gtavant)\n",
    "        urnes[u].append(i)\n",
    "    partition = []\n",
    "    for i in range (k):\n",
    "        if urnes[i] != []:\n",
    "            partition.append(urnes[i])\n",
    "    # print(\"temps passé à génerer des nombres\" ,t)\n",
    "    return(partition)"
   ]
  },
  {
   "cell_type": "markdown",
   "metadata": {},
   "source": [
    "Remark: for big $n$ (say $n\\sim 10^8$) it is much quicker to restart the kernel before calling the program."
   ]
  },
  {
   "cell_type": "code",
   "execution_count": 10,
   "metadata": {},
   "outputs": [
    {
     "name": "stdout",
     "output_type": "stream",
     "text": [
      "There are 87889 urns\n",
      "Time to generate U :  0.09140419960021973\n"
     ]
    },
    {
     "name": "stdout",
     "output_type": "stream",
     "text": [
      "First equivalence class :  [134883, 151796, 296707, 365522, 386580, 488104, 500330, 532841, 545703, 563007, 580196, 585588, 758724, 849748]\n",
      "Number of subsets :  87889\n",
      "Expectancy of the number of subsets (rounded) :  87848\n",
      "Difference to the expectancy in the number of subsets :  -41\n",
      "Standard deviation (rounded) =  88\n",
      "Total time of the procedure :  1.7974483966827393\n"
     ]
    }
   ],
   "source": [
    "debut = time.time()\n",
    "\n",
    "m = find_the_mode(n)\n",
    "k = tirer_k(n,m)\n",
    "\n",
    "print(\"There are\",k,\"urns\")\n",
    "\n",
    "apres_k = time.time()\n",
    "\n",
    "print(\"Time to generate U : \" , apres_k - debut)\n",
    "\n",
    "partition = remplissage_urnes(k,n)\n",
    "print(\"First equivalence class : \",partition[0])\n",
    "print(\"Number of subsets : \",len(partition))\n",
    "print(\"Expectancy of the number of subsets (rounded) : \",round(n/W(n)))\n",
    "print(\"Difference to the expectancy in the number of subsets : \",round(n/W(n)-len(partition)))\n",
    "print(\"Standard deviation (rounded) = \", round(np.sqrt(n)/W(n)))\n",
    "fin = time.time()\n",
    "\n",
    "\n",
    "print(\"Total time of the procedure : \",fin - apres_k)"
   ]
  }
 ],
 "metadata": {
  "kernelspec": {
   "display_name": "Python 3",
   "language": "python",
   "name": "python3"
  },
  "language_info": {
   "codemirror_mode": {
    "name": "ipython",
    "version": 3
   },
   "file_extension": ".py",
   "mimetype": "text/x-python",
   "name": "python",
   "nbconvert_exporter": "python",
   "pygments_lexer": "ipython3",
   "version": "3.9.1"
  }
 },
 "nbformat": 4,
 "nbformat_minor": 2
}
