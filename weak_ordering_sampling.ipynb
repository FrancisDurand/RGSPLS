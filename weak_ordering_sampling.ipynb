{
 "cells": [
  {
   "cell_type": "code",
   "execution_count": 1,
   "metadata": {},
   "outputs": [],
   "source": [
    "import matplotlib.pyplot as plt\n",
    "import numpy as np\n",
    "import math\n",
    "import scipy.special\n",
    "from mpmath import *\n",
    "import random\n",
    "import time"
   ]
  },
  {
   "cell_type": "markdown",
   "metadata": {},
   "source": [
    "We ask for $n \\geq 1$."
   ]
  },
  {
   "cell_type": "code",
   "execution_count": 2,
   "metadata": {},
   "outputs": [],
   "source": [
    "n=1_000_000"
   ]
  },
  {
   "cell_type": "code",
   "execution_count": 3,
   "metadata": {},
   "outputs": [
    {
     "name": "stdout",
     "output_type": "stream",
     "text": [
      "1442695\n"
     ]
    }
   ],
   "source": [
    "import math\n",
    "\n",
    "def find_the_mode(n):\n",
    "    \"\"\"\n",
    "    Computes the value of ⌈1 / (2^(1/n) - 1⌉ for a given integer n.\n",
    "\n",
    "    Parameters:\n",
    "        n (int): The exponent in the expression.\n",
    "\n",
    "    Returns:\n",
    "        int: The computed mode.\n",
    "    \"\"\"\n",
    "    if n <= 0:\n",
    "        raise ValueError(\"n must be a positive integer.\")\n",
    "    nth_root_of_2 = 2 ** (1 / n)\n",
    "    denominator = nth_root_of_2 - 1\n",
    "    if denominator <= 0:\n",
    "        raise ValueError(\"Denominator is non-positive. Check the input value of n.\")\n",
    "    result = 1 / denominator\n",
    "    return math.ceil(result)\n",
    "\n",
    "\n",
    "m = find_the_mode(n)\n",
    "\n",
    "print(m)"
   ]
  },
  {
   "cell_type": "code",
   "execution_count": 4,
   "metadata": {},
   "outputs": [],
   "source": [
    "def compute_F_n_tilde (n): #F_n_tilde is above F_n for n >= 0\n",
    "    if n == 0 :\n",
    "        return(1)\n",
    "    else: return(1.05*mp.power(n,n)*mp.sqrt(2*mp.pi*n)/(2*mp.power(mp.ln(2),n+1)*mp.exp(n)))"
   ]
  },
  {
   "cell_type": "code",
   "execution_count": 5,
   "metadata": {},
   "outputs": [],
   "source": [
    "def g_int (m,n):\n",
    "    if m <= 0 : return(0)\n",
    "    return(mp.power(m,n)/(mp.power(2,m)))\n",
    "\n",
    "def g_function (x,m,n):\n",
    "    g_m = g_int(m,n)\n",
    "    F_n_tilde = compute_F_n_tilde(n)\n",
    "    facteur = mp.exp(1-g_m*(mp.absmax(x-m)-mp.mpf('0.5'))/(mp.exp(1)*F_n_tilde))\n",
    "    if facteur < 1 : \n",
    "        return(g_m*facteur)\n",
    "    else:\n",
    "        return(g_m)"
   ]
  },
  {
   "cell_type": "markdown",
   "metadata": {},
   "source": [
    "Comparision of $F_n$ with $\\tilde{F_n}$ to make sure $\\tilde{F_n}$ is an overapproximation of $F_n$."
   ]
  },
  {
   "cell_type": "code",
   "execution_count": 6,
   "metadata": {},
   "outputs": [
    {
     "data": {
      "image/png": "[encoded data removed]",
      "text/plain": [
       "<Figure size 720x432 with 1 Axes>"
      ]
     },
     "metadata": {
      "needs_background": "light"
     },
     "output_type": "display_data"
    }
   ],
   "source": [
    "#The F_ntilde are above the F_n\n",
    "import numpy as np\n",
    "import matplotlib.pyplot as plt\n",
    "from math import comb  # For binomial coefficients\n",
    "\n",
    "# Step 1: Compute a(n) using dynamic programming\n",
    "def compute_a(n_max):\n",
    "    a = [0] * (n_max + 1)\n",
    "    a[0] = 1  # Base case\n",
    "\n",
    "    for n in range(1, n_max + 1):\n",
    "        a[n] = sum(comb(n, k) * a[n - k] for k in range(1, n + 1))\n",
    "    \n",
    "    return a\n",
    "\n",
    "\n",
    "# Step 3: Compute the first 110 values of a(n) and the ratios\n",
    "n_max = 110\n",
    "a_values = compute_a(n_max)\n",
    "F_tilde_values = [compute_F_n_tilde(n) for n in range(n_max + 1)]\n",
    "ratios = [(a_values[n] / F_tilde_values[n]) for n in range(n_max + 1)]\n",
    "\n",
    "# Step 4: Plot the ratios\n",
    "plt.figure(figsize=(10, 6))\n",
    "plt.plot(range(n_max + 1), ratios, marker='o', linestyle='-', color='b', label='a(n) / F_tilde(n)')\n",
    "plt.xlabel('n')\n",
    "plt.ylabel('Ratio F(n) / F_tilde(n)')\n",
    "plt.title('Ratios of F(n) to F_tilde(n) for n = 0 to 110')\n",
    "plt.grid(True)\n",
    "plt.legend()\n",
    "plt.show()"
   ]
  },
  {
   "cell_type": "code",
   "execution_count": 7,
   "metadata": {},
   "outputs": [],
   "source": [
    "def tirer_Y (n,m):\n",
    "    g_m = g_int (m,n)\n",
    "    F_n_tilde = compute_F_n_tilde(n)\n",
    "    bern = random.random()\n",
    "    if bern < 2/(g_m/(mp.exp(1)*F_n_tilde)+4) : #on est dans l'un des deux cotés\n",
    "        dg = random.randint(1,2)\n",
    "        expdistribution = mp.mpf('-1')*mp.log(random.random())*mp.exp(1)*F_n_tilde/g_m\n",
    "        if dg == 1 : return(m + 0.5 + mp.exp(1)*F_n_tilde/g_m + expdistribution)\n",
    "        else : return(m -0.5 - mp.exp(1)*F_n_tilde/g_m - expdistribution)\n",
    "    else:\n",
    "        return(m + (1 - 2*random.random())*(mp.mpf('0.5') + mp.exp(1)*F_n_tilde/g_m))"
   ]
  },
  {
   "cell_type": "code",
   "execution_count": 8,
   "metadata": {},
   "outputs": [],
   "source": [
    "def tirer_k (n,m):\n",
    "    b = True\n",
    "    while b :\n",
    "        Y = tirer_Y(n,m)\n",
    "        X = round(Y)\n",
    "        if random.random()*g_function(Y,m,n) < g_int(X,n):\n",
    "            b = False\n",
    "    return(X)"
   ]
  },
  {
   "cell_type": "markdown",
   "metadata": {},
   "source": [
    "If one wants to look at the distribution of $Y$ and $U$."
   ]
  },
  {
   "cell_type": "code",
   "execution_count": 9,
   "metadata": {},
   "outputs": [],
   "source": [
    "# results = [tirer_k(n,m) for _ in range(1000)]\n",
    "# results2 = [round(tirer_Y(n,m)) for _ in range(1000)]\n",
    "# # Calculate the mean and standard deviation\n",
    "# # mean = np.mean(results)\n",
    "# # std_dev = np.std(results)\n",
    "\n",
    "# # print(f\"Mean of outcomes: {mean}\")\n",
    "# # print(f\"Standard deviation of outcomes: {std_dev}\")\n",
    "\n",
    "\n",
    "# # Plot the histogram\n",
    "# plt.hist(results, bins=30, density=True, alpha=0.6, color='g', label='Outcomes')\n",
    "# plt.hist(results2, bins=30, density=True, alpha=0.6, color='b', label='r2')\n",
    "\n",
    "# # # Overlay the expected Gaussian distribution\n",
    "# # x = np.linspace(min(results), max(results), 1000)\n",
    "# # gaussian = (1 / (std_dev * np.sqrt(2 * np.pi))) * np.exp(-0.5 * ((x - mean) / std_dev) ** 2)\n",
    "# # plt.plot(x, gaussian, 'r-', label='Gaussian Fit')\n",
    "\n",
    "# # # Add labels and legend\n",
    "# plt.xlabel('Outcome')\n",
    "# plt.ylabel('Density')\n",
    "# plt.title('Distribution of tirer_W1() Outcomes')\n",
    "# plt.legend()\n",
    "\n",
    "# # Show the plot\n",
    "# plt.show()"
   ]
  },
  {
   "cell_type": "code",
   "execution_count": 10,
   "metadata": {},
   "outputs": [],
   "source": [
    "def remplissage_urnes (k,n): \n",
    "    urnes = []\n",
    "    # t = 0\n",
    "    for i in range (k):\n",
    "        urnes.append([])\n",
    "    for i in range (n):\n",
    "        # gtavant = time.time()\n",
    "        u = random.randint(0,k-1)\n",
    "        # gtapres = time.time()\n",
    "        # t+= (gtapres - gtavant)\n",
    "        urnes[u].append(i)\n",
    "    weak_ordering = []\n",
    "    for i in range (k):\n",
    "        if urnes[i] != []:\n",
    "            weak_ordering.append(urnes[i])\n",
    "    # print(\"temps passé à génerer des nombres\" ,t)\n",
    "    return(weak_ordering)"
   ]
  },
  {
   "cell_type": "code",
   "execution_count": 11,
   "metadata": {},
   "outputs": [
    {
     "name": "stdout",
     "output_type": "stream",
     "text": [
      "There are 1442495 urns\n",
      "Time to sample U 0.005446195602416992\n",
      "First equivalence class :  [192112]\n",
      "Number of subsets :  721141\n",
      "Expectancy of the number of subsets (rounded) :  721348\n",
      "Difference to the expectancy in the number of subsets :  207\n",
      "Total time of the procedure :  3.1344070434570312\n"
     ]
    }
   ],
   "source": [
    "debut = time.time()\n",
    "\n",
    "m = find_the_mode(n)\n",
    "k = tirer_k(n,m)\n",
    "\n",
    "print(\"There are\",k,\"urns\")\n",
    "\n",
    "apres_k = time.time()\n",
    "\n",
    "print(\"Time to sample U\" , apres_k - debut)\n",
    "\n",
    "weak_ordering = remplissage_urnes(k,n)\n",
    "print(\"First equivalence class : \",weak_ordering[0])\n",
    "print(\"Number of subsets : \",len(weak_ordering))\n",
    "print(\"Expectancy of the number of subsets (rounded) : \",round(n/(2*mp.ln(2))))\n",
    "print(\"Difference to the expectancy in the number of subsets : \",round(n/(2*mp.ln(2))-len(weak_ordering)))\n",
    "fin = time.time()\n",
    "\n",
    "print(\"Total time of the procedure : \",fin - apres_k)"
   ]
  }
 ],
 "metadata": {
  "kernelspec": {
   "display_name": "Python 3",
   "language": "python",
   "name": "python3"
  },
  "language_info": {
   "codemirror_mode": {
    "name": "ipython",
    "version": 3
   },
   "file_extension": ".py",
   "mimetype": "text/x-python",
   "name": "python",
   "nbconvert_exporter": "python",
   "pygments_lexer": "ipython3",
   "version": "3.9.1"
  }
 },
 "nbformat": 4,
 "nbformat_minor": 2
}
